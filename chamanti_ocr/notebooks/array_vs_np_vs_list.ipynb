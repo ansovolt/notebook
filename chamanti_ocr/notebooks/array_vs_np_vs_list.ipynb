{
 "cells": [
  {
   "cell_type": "code",
   "execution_count": 1,
   "metadata": {
    "collapsed": true
   },
   "outputs": [],
   "source": [
    "import array as ar\n",
    "import numpy as np\n",
    "from bisect import bisect\n",
    "from itertools import accumulate\n",
    "from random import random, randrange"
   ]
  },
  {
   "cell_type": "code",
   "execution_count": 2,
   "metadata": {
    "collapsed": false
   },
   "outputs": [],
   "source": [
    "N = 1000\n",
    "tpcounts = tuple(int(5*random()) for i in range(N))\n",
    "tpcuml = tuple(accumulate(tpcounts))\n",
    "tot = tpcuml[-1]\n",
    "\n",
    "arcounts = ar.array('l', tpcounts)\n",
    "arcuml = ar.array('l', accumulate(tpcounts))\n",
    "arcounts = ar.array('l', tpcounts)\n",
    "arcuml = ar.array('l', accumulate(tpcounts))\n",
    "npcounts = np.array(tpcounts, dtype=np.uint32)\n",
    "npcuml = np.cumsum(npcounts, dtype=np.uint32)"
   ]
  },
  {
   "cell_type": "code",
   "execution_count": 3,
   "metadata": {
    "collapsed": true
   },
   "outputs": [],
   "source": [
    "seek = list(randrange(tot) for i in range(N))\n",
    "npseek = np.array(seek, dtype=np.uint32)"
   ]
  },
  {
   "cell_type": "code",
   "execution_count": 4,
   "metadata": {
    "collapsed": false
   },
   "outputs": [
    {
     "data": {
      "text/plain": [
       "(int, int, int, int, numpy.uint32, numpy.uint32, int)"
      ]
     },
     "execution_count": 4,
     "metadata": {},
     "output_type": "execute_result"
    }
   ],
   "source": [
    "type(tpcounts[0]), type(tpcuml[0]), type(arcounts[0]), type(arcuml[0]), type(npcounts[0]), type(npcuml[0]), type(seek[0])"
   ]
  },
  {
   "cell_type": "code",
   "execution_count": 5,
   "metadata": {
    "collapsed": false
   },
   "outputs": [
    {
     "name": "stdout",
     "output_type": "stream",
     "text": [
      "1000 loops, best of 3: 316 µs per loop\n",
      "1000 loops, best of 3: 393 µs per loop\n",
      "1000 loops, best of 3: 797 µs per loop\n",
      "1000 loops, best of 3: 1.16 ms per loop\n",
      "100 loops, best of 3: 1.93 ms per loop\n",
      "100 loops, best of 3: 16.2 ms per loop\n"
     ]
    }
   ],
   "source": [
    "%timeit for i in seek:    bisect(tpcuml, i)\n",
    "%timeit for i in seek:    bisect(arcuml, i)\n",
    "%timeit for i in npseek:  bisect(npcuml, i)  # Good enough?\n",
    "%timeit for i in npseek:  np.searchsorted(npcuml, i, \"right\")    \n",
    "%timeit for i in seek:    np.searchsorted(npcuml, i, \"right\")\n",
    "%timeit -n 10 for i in seek:    bisect(npcuml, i)  # Worst"
   ]
  },
  {
   "cell_type": "code",
   "execution_count": 6,
   "metadata": {
    "collapsed": false
   },
   "outputs": [],
   "source": [
    "arloc = [bisect(arcuml, i) for i in seek ]\n",
    "tploc = [bisect(tpcuml, i) for i in seek]\n",
    "nploc = [bisect(npcuml, i) for i in npseek]"
   ]
  },
  {
   "cell_type": "code",
   "execution_count": 7,
   "metadata": {
    "collapsed": false
   },
   "outputs": [
    {
     "name": "stdout",
     "output_type": "stream",
     "text": [
      "1 loop, best of 3: 72.7 ms per loop\n"
     ]
    }
   ],
   "source": [
    "%%timeit -n 1\n",
    "for loc in arloc: \n",
    "    val = arcuml[loc]\n",
    "    if loc:\n",
    "        val -= arcuml[loc-1]\n",
    "    for j in range(loc, N):\n",
    "        arcuml[j] -= val//2"
   ]
  },
  {
   "cell_type": "code",
   "execution_count": 8,
   "metadata": {
    "collapsed": true
   },
   "outputs": [],
   "source": [
    "tpcuml = list(tpcuml)"
   ]
  },
  {
   "cell_type": "code",
   "execution_count": 9,
   "metadata": {
    "collapsed": false
   },
   "outputs": [
    {
     "name": "stdout",
     "output_type": "stream",
     "text": [
      "1 loop, best of 3: 53.8 ms per loop\n"
     ]
    }
   ],
   "source": [
    "%%timeit -n 1\n",
    "for loc in tploc: \n",
    "    val = tpcuml[loc]\n",
    "    if loc:\n",
    "        val -= tpcuml[loc-1]\n",
    "    for j in range(loc, N):\n",
    "        tpcuml[j] -= val//2"
   ]
  },
  {
   "cell_type": "code",
   "execution_count": 10,
   "metadata": {
    "collapsed": false
   },
   "outputs": [
    {
     "name": "stdout",
     "output_type": "stream",
     "text": [
      "1 loop, best of 3: 2.81 ms per loop\n"
     ]
    }
   ],
   "source": [
    "%%timeit -n 1\n",
    "for loc in tploc: \n",
    "    val = npcuml[loc]\n",
    "    if loc:\n",
    "        val -= npcuml[loc-1]\n",
    "    npcuml[loc:] -= val"
   ]
  },
  {
   "cell_type": "code",
   "execution_count": null,
   "metadata": {
    "collapsed": true
   },
   "outputs": [],
   "source": []
  }
 ],
 "metadata": {
  "kernelspec": {
   "display_name": "Python 3",
   "language": "python",
   "name": "python3"
  },
  "language_info": {
   "codemirror_mode": {
    "name": "ipython",
    "version": 3
   },
   "file_extension": ".py",
   "mimetype": "text/x-python",
   "name": "python",
   "nbconvert_exporter": "python",
   "pygments_lexer": "ipython3",
   "version": "3.4.3"
  }
 },
 "nbformat": 4,
 "nbformat_minor": 1
}
