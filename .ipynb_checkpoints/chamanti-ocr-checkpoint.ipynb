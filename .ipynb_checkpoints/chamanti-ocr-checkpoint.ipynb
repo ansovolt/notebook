{
 "cells": [
  {
   "cell_type": "code",
   "execution_count": 1,
   "metadata": {
    "collapsed": false,
    "scrolled": true
   },
   "outputs": [],
   "source": [
    "from pyimagesearch.transform import four_point_transform\n",
    "from pyimagesearch import imutils\n",
    "from skimage.filters import threshold_adaptive\n",
    "import numpy as np\n",
    "import argparse\n",
    "import cv2\n",
    "import matplotlib.pyplot as plt\n",
    "from PIL import Image\n",
    "\n",
    "#import chamanti_ocr\n",
    "\n",
    "%matplotlib inline\n",
    "\n"
   ]
  },
  {
   "cell_type": "code",
   "execution_count": 2,
   "metadata": {
    "collapsed": false
   },
   "outputs": [
    {
     "ename": "ImportError",
     "evalue": "No module named 'rnn_ctc'",
     "output_type": "error",
     "traceback": [
      "\u001b[0;31m---------------------------------------------------------------------------\u001b[0m",
      "\u001b[0;31mImportError\u001b[0m                               Traceback (most recent call last)",
      "\u001b[0;32m<ipython-input-2-6a142da76593>\u001b[0m in \u001b[0;36m<module>\u001b[0;34m()\u001b[0m\n\u001b[1;32m      7\u001b[0m \u001b[0;32mimport\u001b[0m \u001b[0mtheano\u001b[0m \u001b[0;32mas\u001b[0m \u001b[0mth\u001b[0m\u001b[0;34m\u001b[0m\u001b[0m\n\u001b[1;32m      8\u001b[0m \u001b[0;34m\u001b[0m\u001b[0m\n\u001b[0;32m----> 9\u001b[0;31m \u001b[0;32mimport\u001b[0m \u001b[0mrnn_ctc\u001b[0m\u001b[0;34m.\u001b[0m\u001b[0mneuralnet\u001b[0m \u001b[0;32mas\u001b[0m \u001b[0mnn\u001b[0m\u001b[0;34m\u001b[0m\u001b[0m\n\u001b[0m\u001b[1;32m     10\u001b[0m \u001b[0;31m# from parscribe import ParScribe as Scribe\u001b[0m\u001b[0;34m\u001b[0m\u001b[0;34m\u001b[0m\u001b[0m\n\u001b[1;32m     11\u001b[0m \u001b[0;32mfrom\u001b[0m \u001b[0mscribe\u001b[0m \u001b[0;32mimport\u001b[0m \u001b[0mScribe\u001b[0m\u001b[0;34m\u001b[0m\u001b[0m\n",
      "\u001b[0;31mImportError\u001b[0m: No module named 'rnn_ctc'"
     ]
    }
   ],
   "source": [
    "# %load chamanti_ocr/train.py\n",
    "import sys\n",
    "from datetime import datetime as dt\n",
    "\n",
    "import editdistance\n",
    "import numpy as np\n",
    "import theano as th\n",
    "\n",
    "import rnn_ctc.neuralnet as nn\n",
    "# from parscribe import ParScribe as Scribe\n",
    "from scribe import Scribe\n",
    "import utils\n",
    "import telugu as lang\n",
    "import utils\n",
    "\n",
    "############################################ Read Args\n",
    "args = utils.read_args(sys.argv[1:])\n",
    "num_samples, num_epochs = args['num_samples'], args['num_epochs']\n",
    "scribe_args, nnet_args = args['scribe_args'], args['nnet_args']\n",
    "\n",
    "if len(sys.argv) > 1:\n",
    "    output_fname = '-'.join(sorted(sys.argv[1:]))\n",
    "    output_fname = output_fname.replace('.ast', '').replace('/', '').replace('configs', '')\n",
    "else:\n",
    "    output_fname = \"default\"\n",
    "output_fname += '_' + dt.now().strftime('%y%m%d_%H%M') + '.txt'\n",
    "distances, wts = [], []\n",
    "print(\"Output will be written to: \", output_fname)\n",
    "\n",
    "# Initialize Language\n",
    "lang.select_labeler(args['labeler'])\n",
    "alphabet_size = len(lang.symbols)\n",
    "\n",
    "# Initialize Scriber\n",
    "scribe_args['dtype'] = th.config.floatX\n",
    "scriber = Scribe(lang, **scribe_args)\n",
    "printer = utils.Printer(lang.symbols)\n",
    "\n",
    "# Initialize the Neural Network\n",
    "print('Building the Network')\n",
    "ntwk = nn.NeuralNet(scriber.height, alphabet_size, **nnet_args)\n",
    "\n",
    "# Print\n",
    "print('\\nArguments:')\n",
    "utils.write_dict(args)\n",
    "print('FloatX: {}'.format(th.config.floatX))\n",
    "print('Alphabet Size: {}'.format(alphabet_size))\n",
    "\n",
    "################################ Train\n",
    "print('Training the Network')\n",
    "for epoch in range(num_epochs):\n",
    "    ntwk.update_learning_rate(epoch)\n",
    "    edit_dist, tot_len = 0, 0\n",
    "\n",
    "    for samp in range(num_samples):\n",
    "        x, y = scriber.get_text_image()\n",
    "        y_blanked = utils.insert_blanks(y, alphabet_size, num_blanks_at_start=2)\n",
    "        # if len(y_blanked) < 2:\n",
    "        #     print(y_blanked, end=' ')\n",
    "        #     continue\n",
    "        cst, pred, forward_probs = ntwk.trainer(x, y_blanked)\n",
    "\n",
    "        if np.isinf(cst):\n",
    "            printer.show_all(y, x, pred,\n",
    "                             (forward_probs > 1e-20, 'Forward probabilities:', y_blanked))\n",
    "            print('Exiting on account of Inf Cost...')\n",
    "            break\n",
    "\n",
    "        if samp == 0 and epoch==num_epochs-1:   # or len(y) == 0:\n",
    "            pred, hidden = ntwk.tester(x)\n",
    "\n",
    "            print('Epoch:{:6d} Cost:{:.3f}'.format(epoch, float(cst)))\n",
    "            printer.show_all(y, x, pred,\n",
    "                             (forward_probs > -6, 'Forward probabilities:', y_blanked),\n",
    "                             ((hidden + 1)/2, 'Hidden Layer:'))\n",
    "            utils.pprint_probs(forward_probs)\n",
    "\n",
    "        edit_dist += editdistance.eval(printer.decode(pred), y)\n",
    "        tot_len += len(y)\n",
    "\n",
    "    distances.append((edit_dist, tot_len))\n",
    "    # wts.append(ntwk.layers[0].params[1].get_value())\n",
    "    # print(\"Successes: {0[0]}/{0[1]}\".format(edit_dist))\n",
    "\n",
    "\n",
    "################################ save\n",
    "with open(output_fname, 'w') as f:\n",
    "    # pickle.dump((wts, successes), f, -1)\n",
    "    utils.write_dict(args, f)\n",
    "\n",
    "    f.write(\"Edit Distances\\n\")\n",
    "    for i, (e, t) in enumerate(distances):\n",
    "        f.write(\"{:4d}: {:5d}/{:5d}\\n\".format(i, e, t))\n",
    "\n",
    "print(output_fname, distances[-1])"
   ]
  },
  {
   "cell_type": "code",
   "execution_count": null,
   "metadata": {
    "collapsed": true
   },
   "outputs": [],
   "source": []
  }
 ],
 "metadata": {
  "kernelspec": {
   "display_name": "Python 3",
   "language": "python",
   "name": "python3"
  },
  "language_info": {
   "codemirror_mode": {
    "name": "ipython",
    "version": 3
   },
   "file_extension": ".py",
   "mimetype": "text/x-python",
   "name": "python",
   "nbconvert_exporter": "python",
   "pygments_lexer": "ipython3",
   "version": "3.5.2"
  }
 },
 "nbformat": 4,
 "nbformat_minor": 2
}
