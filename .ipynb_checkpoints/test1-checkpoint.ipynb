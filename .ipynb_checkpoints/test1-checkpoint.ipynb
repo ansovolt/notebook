{
 "cells": [
  {
   "cell_type": "code",
   "execution_count": 1,
   "metadata": {
    "collapsed": true
   },
   "outputs": [],
   "source": [
    "import h2o"
   ]
  },
  {
   "cell_type": "code",
   "execution_count": 2,
   "metadata": {
    "collapsed": true
   },
   "outputs": [],
   "source": [
    "import tensorflow as tf"
   ]
  },
  {
   "cell_type": "code",
   "execution_count": 3,
   "metadata": {
    "collapsed": false
   },
   "outputs": [
    {
     "name": "stderr",
     "output_type": "stream",
     "text": [
      "/opt/conda/lib/python3.5/site-packages/matplotlib/font_manager.py:273: UserWarning: Matplotlib is building the font cache using fc-list. This may take a moment.\n",
      "  warnings.warn('Matplotlib is building the font cache using fc-list. This may take a moment.')\n",
      "/opt/conda/lib/python3.5/site-packages/matplotlib/font_manager.py:273: UserWarning: Matplotlib is building the font cache using fc-list. This may take a moment.\n",
      "  warnings.warn('Matplotlib is building the font cache using fc-list. This may take a moment.')\n"
     ]
    }
   ],
   "source": [
    "import numpy as np \n",
    "import matplotlib as mp\n",
    "%matplotlib inline\n",
    "import matplotlib.pyplot as plt\n",
    "sess = tf.Session()"
   ]
  },
  {
   "cell_type": "code",
   "execution_count": 4,
   "metadata": {
    "collapsed": true
   },
   "outputs": [],
   "source": [
    "def getActivations(layer,stimuli):\n",
    "    units = layer.eval(session=sess,feed_dict={x:np.reshape(stimuli,[1,784],order='F'),keep_prob:1.0})\n",
    "    plotNNFilter(units)"
   ]
  },
  {
   "cell_type": "code",
   "execution_count": 5,
   "metadata": {
    "collapsed": true
   },
   "outputs": [],
   "source": [
    "def plotNNFilter(units):\n",
    "    filters = units.shape[3]\n",
    "    plt.figure(1, figsize=(20,20))\n",
    "    for i in xrange(0,filters):\n",
    "        plt.subplot(7,6,i+1)\n",
    "        plt.title('Filter ' + str(i))\n",
    "        plt.imshow(units[0,:,:,i], interpolation=\"nearest\", cmap=\"gray\")"
   ]
  },
  {
   "cell_type": "code",
   "execution_count": 9,
   "metadata": {
    "collapsed": false
   },
   "outputs": [
    {
     "name": "stdout",
     "output_type": "stream",
     "text": [
      "Extracting MNIST_data/train-images-idx3-ubyte.gz\n",
      "Extracting MNIST_data/train-labels-idx1-ubyte.gz\n",
      "Extracting MNIST_data/t10k-images-idx3-ubyte.gz\n",
      "Successfully downloaded t10k-labels-idx1-ubyte.gz 4542 bytes.\n",
      "Extracting MNIST_data/t10k-labels-idx1-ubyte.gz\n"
     ]
    }
   ],
   "source": [
    "from tensorflow.examples.tutorials.mnist import input_data\n",
    "mnist = input_data.read_data_sets(\"MNIST_data/\", one_hot=True)"
   ]
  },
  {
   "cell_type": "code",
   "execution_count": 13,
   "metadata": {
    "collapsed": false
   },
   "outputs": [
    {
     "data": {
      "text/plain": [
       "<matplotlib.image.AxesImage at 0x7f35acd2e8d0>"
      ]
     },
     "execution_count": 13,
     "metadata": {},
     "output_type": "execute_result"
    },
    {
     "data": {
      "image/png": "[encoded data removed]",
      "text/plain": [
       "<matplotlib.figure.Figure at 0x7f35acfa3668>"
      ]
     },
     "metadata": {},
     "output_type": "display_data"
    }
   ],
   "source": [
    "imageWidth = imageHeight = 28\n",
    "testImageNumber = 3   # Change here to see another\n",
    "\n",
    "imageToUse = mnist.test.images[testImageNumber]\n",
    "plt.imshow(np.reshape(imageToUse,[imageWidth,imageHeight]), interpolation=\"nearest\", cmap=\"gray_r\")"
   ]
  },
  {
   "cell_type": "code",
   "execution_count": 14,
   "metadata": {
    "collapsed": true
   },
   "outputs": [],
   "source": [
    "inputVectorSize = imageWidth*imageHeight\n",
    "\n",
    "numberOfPossibleDigits = 10     # handwritten digits between 0 and 9\n",
    "outputVectorSize = numberOfPossibleDigits\n",
    "\n",
    "x = tf.placeholder(tf.float32, [None, inputVectorSize],name=\"x-in\")\n",
    "y_ = tf.placeholder(tf.float32, [None, outputVectorSize],name=\"y-in\")\n",
    "\n",
    "def weight_variable(shape):\n",
    "    initial = tf.truncated_normal(shape, stddev=0.1)\n",
    "    return tf.Variable(initial)\n",
    "\n",
    "def bias_variable(shape):\n",
    "    initial = tf.constant(0.1, shape=shape)\n",
    "    return tf.Variable(initial)\n",
    "\n",
    "def conv2d(x, W):\n",
    "    return tf.nn.conv2d(x, W, strides=[1, 1, 1, 1], padding='SAME')    \n",
    "# overlapping strides (2: non-overlapping)\n",
    "\n",
    "def max_pool_2x2(x):\n",
    "    return tf.nn.max_pool(x, ksize=[1, 2, 2, 1],strides=[1, 2, 2, 1], padding='SAME')"
   ]
  },
  {
   "cell_type": "code",
   "execution_count": 15,
   "metadata": {
    "collapsed": true
   },
   "outputs": [],
   "source": [
    "outputFeatures1 = 4\n",
    "outputFeatures2 = 4\n",
    "outputFeatures3 = 16\n",
    "\n",
    "# Input\n",
    "x_image = tf.reshape(x, [-1,imageWidth,imageHeight,1])\n",
    "\n",
    "# Individual neuron calculation: y = conv(x,weight) + bias\n",
    "\n",
    "# Layer 1: convolution\n",
    "W_conv1 = weight_variable([5, 5, 1, outputFeatures1])\n",
    "b_conv1 = bias_variable([outputFeatures1])\n",
    "h_conv1 = tf.nn.relu(conv2d(x_image, W_conv1) + b_conv1)\n",
    "h_pool1 = max_pool_2x2(h_conv1)\n",
    "\n",
    "# Layer 2: convolution\n",
    "W_conv2 = weight_variable([5, 5, outputFeatures1, outputFeatures2])\n",
    "b_conv2 = bias_variable([outputFeatures2])\n",
    "h_conv2 = tf.nn.relu(conv2d(h_pool1, W_conv2) + b_conv2)\n",
    "h_pool2 = max_pool_2x2(h_conv2)\n",
    "\n",
    "# Layer 3: convolution\n",
    "W_conv3 = weight_variable([5, 5, outputFeatures2, outputFeatures3])\n",
    "b_conv3 = bias_variable([outputFeatures3])\n",
    "h_conv3 = tf.nn.relu(conv2d(h_pool2, W_conv3) + b_conv3)\n",
    "\n",
    "# Layer 4: Densely connected layer\n",
    "W_fc1 = weight_variable([7 * 7 * outputFeatures3, 10])\n",
    "b_fc1 = bias_variable([10])\n",
    "h_conv3_flat = tf.reshape(h_conv3, [-1, 7*7*outputFeatures3])\n",
    "keep_prob = tf.placeholder(\"float\")\n",
    "h_conv3_drop = tf.nn.dropout(h_conv3_flat, keep_prob)\n",
    "\n",
    "# Output\n",
    "y_conv = tf.nn.softmax(tf.matmul(h_conv3_drop, W_fc1) + b_fc1)"
   ]
  },
  {
   "cell_type": "code",
   "execution_count": 17,
   "metadata": {
    "collapsed": false
   },
   "outputs": [],
   "source": [
    "cross_entropy = -tf.reduce_sum(y_*tf.log(y_conv))\n",
    "correct_prediction = tf.equal(tf.argmax(y_conv,1), tf.argmax(y_,1))\n",
    "accuracy = tf.reduce_mean(tf.cast(correct_prediction, \"float\"))\n",
    "train_step = tf.train.GradientDescentOptimizer(0.0001).minimize(cross_entropy)"
   ]
  },
  {
   "cell_type": "code",
   "execution_count": 18,
   "metadata": {
    "collapsed": true
   },
   "outputs": [],
   "source": [
    "sess.run(tf.initialize_all_variables())\n",
    "\n",
    "iterations = 0\n",
    "trainingImageBatchSize = 50\n",
    "\n",
    "for iterations in range(0,1000):\n",
    "    batch = mnist.train.next_batch(trainingImageBatchSize)\n",
    "    train_step.run(session=sess, feed_dict={x:batch[0],y_:batch[1], keep_prob:0.5})\n",
    "\n",
    "if iterations%100 == 0:\n",
    "        trainAccuracy = accuracy.eval(session=sess, feed_dict={x:batch[0],y_:batch[1], keep_prob:1.0})\n",
    "        print(\"step %d, training accuracy %g\"%(iterations, trainAccuracy))"
   ]
  },
  {
   "cell_type": "code",
   "execution_count": 25,
   "metadata": {
    "collapsed": false
   },
   "outputs": [
    {
     "data": {
      "image/png": "[encoded data removed]",
      "text/plain": [
       "<matplotlib.figure.Figure at 0x7f35a0d6d320>"
      ]
     },
     "metadata": {},
     "output_type": "display_data"
    }
   ],
   "source": [
    "testImageNumber = 1   # Change here to use another\n",
    "\n",
    "imageToUse = mnist.test.images[testImageNumber]\n",
    "#plt.imshow(np.reshape(imageToUse,[imageWidth,imageHeight]), interpolation=\"nearest\", cmap=\"gray_r\")\n",
    "\n",
    "try: \n",
    "    xrange \n",
    "except NameError: \n",
    "    xrange = range\n",
    "\n",
    "\n",
    "getActivations(h_conv1,imageToUse)\n",
    "getActivations(h_conv2,imageToUse)\n",
    "getActivations(h_conv3,imageToUse)\n",
    "\n"
   ]
  },
  {
   "cell_type": "code",
   "execution_count": null,
   "metadata": {
    "collapsed": true
   },
   "outputs": [],
   "source": []
  }
 ],
 "metadata": {
  "kernelspec": {
   "display_name": "Python 3",
   "language": "python",
   "name": "python3"
  },
  "language_info": {
   "codemirror_mode": {
    "name": "ipython",
    "version": 3
   },
   "file_extension": ".py",
   "mimetype": "text/x-python",
   "name": "python",
   "nbconvert_exporter": "python",
   "pygments_lexer": "ipython3",
   "version": "3.5.2"
  }
 },
 "nbformat": 4,
 "nbformat_minor": 1
}
