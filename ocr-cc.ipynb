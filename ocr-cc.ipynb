{
 "cells": [
  {
   "cell_type": "code",
   "execution_count": 1,
   "metadata": {
    "collapsed": false,
    "scrolled": true
   },
   "outputs": [],
   "source": [
    "\"\"\"Divide a binarized image into individual connected components.\"\"\"\n",
    "%matplotlib inline\n",
    "import matplotlib.pyplot as plt\n",
    "from PIL import Image\n",
    "\n",
    "from __future__ import division\n",
    "import cv2\n",
    "import numpy as np\n",
    "import math\n",
    "import copy\n",
    "\n",
    "MIN_HEIGHT = 32\n",
    "MIN_ASPECT_RATIO = 0.6\n",
    "MAX_ASPECT_RATIO = 6\n",
    "TOL = 4\n"
   ]
  },
  {
   "cell_type": "code",
   "execution_count": 2,
   "metadata": {
    "collapsed": true
   },
   "outputs": [],
   "source": [
    "def is_good_roi(roi):\n",
    "    \"\"\"Checks the aspect ratio and minimum size of the ROI.\n",
    "    Returns True if it's OK.\"\"\"\n",
    "    x,y,width,height = roi\n",
    "    return height >= MIN_HEIGHT and MIN_ASPECT_RATIO <= height/width <= MAX_ASPECT_RATIO\n"
   ]
  },
  {
   "cell_type": "code",
   "execution_count": 3,
   "metadata": {
    "collapsed": true
   },
   "outputs": [],
   "source": [
    "\n",
    "def is_overlap(r1, r2):\n",
    "    \"\"\"Returns True if the two ROIs overlap.\"\"\"\n",
    "    #\n",
    "    # r1 is always on the left\n",
    "    #\n",
    "    if r2[0] < r1[0]:\n",
    "        r1, r2 = r2, r1\n",
    "    x1, y1, w1, h1 = r1\n",
    "    x2, y2, w2, h2 = r2\n",
    "\n",
    "    if not x1 <= x2 <= x1+w1:\n",
    "        return False\n",
    "\n",
    "    return (y1 <= y2 <= y1+h1) or (y2 <= y1 <= y2+h2)"
   ]
  },
  {
   "cell_type": "code",
   "execution_count": 4,
   "metadata": {
    "collapsed": true
   },
   "outputs": [],
   "source": [
    "def merge(r1, r2):\n",
    "    \"\"\"Merge two ROIs, assuming they overlap.\"\"\"\n",
    "    x1, y1, w1, h1 = r1\n",
    "    x2, y2, w2, h2 = r2\n",
    "\n",
    "    xx1 = min(x1, x2)\n",
    "    yy1 = min(y1, y2)\n",
    "    xx2 = max(x1+w1, x2+w2)\n",
    "    yy2 = max(y1+h1, y2+h2)\n",
    "\n",
    "    ww = xx2 - xx1\n",
    "    hh = yy2 - yy1\n",
    "    return (xx1, yy1, ww, hh)\n"
   ]
  },
  {
   "cell_type": "code",
   "execution_count": 5,
   "metadata": {
    "collapsed": false
   },
   "outputs": [],
   "source": [
    "\n",
    "def merge_overlaps(rois):\n",
    "    \"\"\"Perform a single iteration of overlapping ROIs.\n",
    "    Returns the number of overlaps merged.\"\"\"\n",
    "    merged = []\n",
    "    used = [False]*len(rois)\n",
    "    \n",
    "    for i,r1 in enumerate(rois):\n",
    "        #print('i,r2')\n",
    "        if used[i]:\n",
    "            continue\n",
    "        for j,r2 in enumerate(rois):\n",
    "            #print('j,r2')\n",
    "            if j <= i or used[j]:\n",
    "                continue\n",
    "            if is_overlap(r1, r2):\n",
    "                #print('is_overlap')\n",
    "                merged.append(merge(r1, r2))\n",
    "                used[i] = used[j] = True\n",
    "    num_merged = len(merged)\n",
    "    #num_merged = len(list(merged))\n",
    "    for i,r in enumerate(rois):\n",
    "        if used[i]:\n",
    "            continue\n",
    "        merged.append(r)\n",
    "\n",
    "    return merged, num_merged\n"
   ]
  },
  {
   "cell_type": "code",
   "execution_count": 6,
   "metadata": {
    "collapsed": true
   },
   "outputs": [],
   "source": [
    "\n",
    "def roi_compare(roi1, roi2):\n",
    "    x1, y1, _, _ = roi1\n",
    "    x2, y2, _, _ = roi2\n",
    "    x1 //= 8\n",
    "    x2 //= 8\n",
    "    y1 //= 8\n",
    "    y2 //= 8\n",
    "    if y1 < y2:\n",
    "        return -1\n",
    "    elif y1 > y2:\n",
    "        return 1\n",
    "\n",
    "    if x1 < x2:\n",
    "        return -1\n",
    "    elif x1 > x2:\n",
    "        return 1\n",
    "\n",
    "    return 0"
   ]
  },
  {
   "cell_type": "code",
   "execution_count": 7,
   "metadata": {
    "collapsed": false
   },
   "outputs": [],
   "source": [
    "\n",
    "def get_rois(binarized, numiter=1):\n",
    "    #\n",
    "    # findContours uses the input image as scratch space\n",
    "    #\n",
    "    tmp = copy.deepcopy(binarized)\n",
    "    #\n",
    "    # Open the image to get rid of \"holes\" in the border\n",
    "    #\n",
    "    tmp = cv2.erode(cv2.dilate(tmp, None, iterations=numiter), None, iterations=numiter)\n",
    "    \n",
    "    \n",
    "    #contours, _= cv2.findContours(tmp, cv2.RETR_EXTERNAL, cv2.CHAIN_APPROX_SIMPLE)\n",
    "    #_, contours, _ = cv2.findContours(tmp, cv2.RETR_EXTERNAL, cv2.CHAIN_APPROX_SIMPLE)\n",
    "    \n",
    "    #imgray = cv2.cvtColor(im,cv2.COLOR_BGR2GRAY)\n",
    "    #ret,thresh = cv2.threshold(imgray,127,255,0)\n",
    "    #contours, hierarchy = cv2.findContours(thresh,cv2.RETR_TREE,cv2.CHAIN_APPROX_SIMPLE)\n",
    "    \n",
    "    ret,thresh = cv2.threshold(binarized,127,255,0)\n",
    "    image,contours, hierarchy = cv2.findContours(thresh,cv2.RETR_TREE,cv2.CHAIN_APPROX_SIMPLE)\n",
    "    \n",
    "    #print('counturs: %d' % len(contours))\n",
    "    #cnt = contours[0]\n",
    "    #print('countur: %s' % cnt)\n",
    "    #print(cnt.shape)\n",
    "    #print(cv2.boundingRect(cnt))\n",
    "    \n",
    "    rois = map(lambda x: cv2.boundingRect(x), contours)\n",
    "    rois = list(rois)\n",
    "    \n",
    "    #print (rois)\n",
    "    #print (len(rois))    \n",
    "    #rois, num_merged = merge_overlaps(rois)           \n",
    "    #print(rois)\n",
    "    #print('done merging')\n",
    "    #print(num_merged)\n",
    "    \n",
    "    print('starting merge')        \n",
    "    while True:\n",
    "        rois, num_merged = merge_overlaps(rois)                \n",
    "        if num_merged == 0:\n",
    "            break\n",
    "     \n",
    "    print('done merging')        \n",
    "        \n",
    "    roisf = filter(is_good_roi, rois)\n",
    "    rois = list(roisf)\n",
    "    rois.sort(key=roi_compare)  \n",
    "    \n",
    "    print('printing final  rois')\n",
    "    print ( rois)\n",
    "    \n",
    "    return rois\n",
    "    "
   ]
  },
  {
   "cell_type": "code",
   "execution_count": 8,
   "metadata": {
    "collapsed": false
   },
   "outputs": [
    {
     "name": "stdout",
     "output_type": "stream",
     "text": [
      "starting merge\n",
      "done merging\n"
     ]
    },
    {
     "ename": "TypeError",
     "evalue": "roi_compare() missing 1 required positional argument: 'roi2'",
     "output_type": "error",
     "traceback": [
      "\u001b[0;31m---------------------------------------------------------------------------\u001b[0m",
      "\u001b[0;31mTypeError\u001b[0m                                 Traceback (most recent call last)",
      "\u001b[0;32m<ipython-input-8-6ee82a7c127e>\u001b[0m in \u001b[0;36m<module>\u001b[0;34m()\u001b[0m\n\u001b[1;32m      2\u001b[0m \u001b[0;31m#im = cv2.imread('document-scanner/images/sams.jpg', cv2.IMREAD_GRAYSCALE)\u001b[0m\u001b[0;34m\u001b[0m\u001b[0;34m\u001b[0m\u001b[0m\n\u001b[1;32m      3\u001b[0m \u001b[0mim\u001b[0m \u001b[0;34m=\u001b[0m \u001b[0mcv2\u001b[0m\u001b[0;34m.\u001b[0m\u001b[0mimread\u001b[0m\u001b[0;34m(\u001b[0m\u001b[0;34m'document-scanner/images/ocr-binarized.jpeg'\u001b[0m\u001b[0;34m,\u001b[0m \u001b[0mcv2\u001b[0m\u001b[0;34m.\u001b[0m\u001b[0mIMREAD_GRAYSCALE\u001b[0m\u001b[0;34m)\u001b[0m\u001b[0;34m\u001b[0m\u001b[0m\n\u001b[0;32m----> 4\u001b[0;31m \u001b[0mrois\u001b[0m \u001b[0;34m=\u001b[0m \u001b[0mget_rois\u001b[0m\u001b[0;34m(\u001b[0m\u001b[0mim\u001b[0m\u001b[0;34m)\u001b[0m\u001b[0;34m\u001b[0m\u001b[0m\n\u001b[0m\u001b[1;32m      5\u001b[0m \u001b[0;31m#color_im = cv2.cvtColor(im, cv2.COLOR_GRAY2BGR)\u001b[0m\u001b[0;34m\u001b[0m\u001b[0;34m\u001b[0m\u001b[0m\n\u001b[1;32m      6\u001b[0m \u001b[0;31m#print(\"before roi loop\")\u001b[0m\u001b[0;34m\u001b[0m\u001b[0;34m\u001b[0m\u001b[0m\n",
      "\u001b[0;32m<ipython-input-7-71ccfb2b4b0b>\u001b[0m in \u001b[0;36mget_rois\u001b[0;34m(binarized, numiter)\u001b[0m\n\u001b[1;32m     47\u001b[0m     \u001b[0mroisf\u001b[0m \u001b[0;34m=\u001b[0m \u001b[0mfilter\u001b[0m\u001b[0;34m(\u001b[0m\u001b[0mis_good_roi\u001b[0m\u001b[0;34m,\u001b[0m \u001b[0mrois\u001b[0m\u001b[0;34m)\u001b[0m\u001b[0;34m\u001b[0m\u001b[0m\n\u001b[1;32m     48\u001b[0m     \u001b[0mrois\u001b[0m \u001b[0;34m=\u001b[0m \u001b[0mlist\u001b[0m\u001b[0;34m(\u001b[0m\u001b[0mroisf\u001b[0m\u001b[0;34m)\u001b[0m\u001b[0;34m\u001b[0m\u001b[0m\n\u001b[0;32m---> 49\u001b[0;31m     \u001b[0mrois\u001b[0m\u001b[0;34m.\u001b[0m\u001b[0msort\u001b[0m\u001b[0;34m(\u001b[0m\u001b[0mkey\u001b[0m\u001b[0;34m=\u001b[0m\u001b[0mroi_compare\u001b[0m\u001b[0;34m)\u001b[0m\u001b[0;34m\u001b[0m\u001b[0m\n\u001b[0m\u001b[1;32m     50\u001b[0m \u001b[0;34m\u001b[0m\u001b[0m\n\u001b[1;32m     51\u001b[0m     \u001b[0mprint\u001b[0m\u001b[0;34m(\u001b[0m\u001b[0;34m'printing final  rois'\u001b[0m\u001b[0;34m)\u001b[0m\u001b[0;34m\u001b[0m\u001b[0m\n",
      "\u001b[0;31mTypeError\u001b[0m: roi_compare() missing 1 required positional argument: 'roi2'"
     ]
    }
   ],
   "source": [
    "#im = cv2.imread('document-scanner/images/braums-4.jpg', cv2.IMREAD_GRAYSCALE)\n",
    "#im = cv2.imread('document-scanner/images/sams.jpg', cv2.IMREAD_GRAYSCALE)\n",
    "im = cv2.imread('document-scanner/images/ocr-binarized.jpeg', cv2.IMREAD_GRAYSCALE)\n",
    "rois = get_rois(im)\n",
    "#color_im = cv2.cvtColor(im, cv2.COLOR_GRAY2BGR)\n",
    "#print(\"before roi loop\")\n",
    "#for (x,y,width,height) in rois:\n",
    "#    print(\"in roi loop\")\n",
    "#    cv2.rectangle(color_im, (x,y), (x+width, y+height), (255,0,0,0), 2)\n",
    "#plt.imshow(color_im)\n",
    "#plt.show()"
   ]
  },
  {
   "cell_type": "code",
   "execution_count": null,
   "metadata": {
    "collapsed": false,
    "scrolled": true
   },
   "outputs": [],
   "source": [
    "im = Image.fromarray(color_im)\n",
    "im.save(\"document-scanner/images/ocr-cc.jpeg\")\n"
   ]
  },
  {
   "cell_type": "code",
   "execution_count": null,
   "metadata": {
    "collapsed": true
   },
   "outputs": [],
   "source": []
  }
 ],
 "metadata": {
  "kernelspec": {
   "display_name": "Python 3",
   "language": "python",
   "name": "python3"
  },
  "language_info": {
   "codemirror_mode": {
    "name": "ipython",
    "version": 3
   },
   "file_extension": ".py",
   "mimetype": "text/x-python",
   "name": "python",
   "nbconvert_exporter": "python",
   "pygments_lexer": "ipython3",
   "version": "3.5.2"
  }
 },
 "nbformat": 4,
 "nbformat_minor": 2
}
