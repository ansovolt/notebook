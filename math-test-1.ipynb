{
 "cells": [
  {
   "cell_type": "code",
   "execution_count": 68,
   "metadata": {
    "collapsed": false,
    "scrolled": true
   },
   "outputs": [],
   "source": [
    "\n",
    "%matplotlib inline\n",
    "import matplotlib.pyplot as plt\n",
    "from PIL import Image\n",
    "\n",
    "from __future__ import division\n",
    "import cv2\n",
    "import numpy as np\n",
    "import math\n",
    "import copy\n",
    "\n",
    "from sklearn import datasets\n",
    "import pylab as pl\n",
    "from numpy.linalg import det\n",
    "from numpy.linalg import inv"
   ]
  },
  {
   "cell_type": "code",
   "execution_count": 69,
   "metadata": {
    "collapsed": false
   },
   "outputs": [
    {
     "data": {
      "image/png": "[encoded data removed]",
      "text/plain": [
       "<matplotlib.figure.Figure at 0x7f3789c62128>"
      ]
     },
     "metadata": {},
     "output_type": "display_data"
    }
   ],
   "source": [
    "x = np.linspace(-5,5)\n",
    "y1 = 2*x+1\n",
    "y2 = x\n",
    "plt.plot(x,y2,'r--',x,y1)\n",
    "plt.grid(True)\n",
    "plt.show()"
   ]
  },
  {
   "cell_type": "code",
   "execution_count": 75,
   "metadata": {
    "collapsed": false
   },
   "outputs": [
    {
     "name": "stdout",
     "output_type": "stream",
     "text": [
      "[[ 2 -1]\n",
      " [ 1 -1]]\n",
      "-1.0\n",
      "[[-1 -1]\n",
      " [ 0 -1]]\n",
      "1.0\n",
      "[[ 2 -1]\n",
      " [ 1  0]]\n",
      "1.0\n",
      "-1.0 -1.0\n"
     ]
    }
   ],
   "source": [
    "# solving the following equation\n",
    "# 2*x - y = -1\n",
    "# 1*x - y = 0\n",
    "\n",
    "A = np.array([[2,-1],[1,-1]])\n",
    "detA = det(A)\n",
    "print (A)\n",
    "print (detA)\n",
    "X = np.array([[-1,-1],[0,-1]])\n",
    "detX = det(X)\n",
    "print (X)\n",
    "print (detX)\n",
    "Y = np.array([[2,-1],[1,0]])\n",
    "detY = det(Y)\n",
    "print (Y)\n",
    "print (detY)\n",
    "x_ = detX/detA\n",
    "y_ = detY/detA\n",
    "print(x_,y_)\n"
   ]
  },
  {
   "cell_type": "code",
   "execution_count": null,
   "metadata": {
    "collapsed": true
   },
   "outputs": [],
   "source": [
    "# solving the following equation\n",
    "# 2*x1 + 1 = 0\n",
    "# x = 0\n",
    "\n",
    "A = np.array([[2,1],[-1,0]])\n",
    "detA = det(A)\n",
    "print (A)\n",
    "print (detA)\n",
    "X1 = np.array([[0,-1],[0,0]])\n",
    "detX1 = det(X1)\n",
    "print (X1)\n",
    "print (detX1)\n",
    "X2 = np.array([[2,0],[1,0]])\n",
    "detX2 = det(X2)\n",
    "print (X2)\n",
    "print (detX2)\n",
    "x1 = detX1/detA\n",
    "x2 = detX2/detA\n",
    "print(x1,x2)"
   ]
  },
  {
   "cell_type": "code",
   "execution_count": 47,
   "metadata": {
    "collapsed": false
   },
   "outputs": [
    {
     "name": "stdout",
     "output_type": "stream",
     "text": [
      "[[2 1]\n",
      " [1 0]]\n",
      "[[ 0.  1.]\n",
      " [ 1. -2.]]\n"
     ]
    }
   ],
   "source": [
    "\n",
    "A = np.array([[2,1],[1,0]])\n",
    "print(A)\n",
    "Ainv = inv(A)\n",
    "print(Ainv)"
   ]
  },
  {
   "cell_type": "code",
   "execution_count": 48,
   "metadata": {
    "collapsed": false
   },
   "outputs": [
    {
     "name": "stdout",
     "output_type": "stream",
     "text": [
      "[[ 1.  0.]\n",
      " [ 0.  1.]]\n"
     ]
    }
   ],
   "source": [
    "i = np.dot(A,Ainv)\n",
    "print (i)"
   ]
  },
  {
   "cell_type": "code",
   "execution_count": 49,
   "metadata": {
    "collapsed": false
   },
   "outputs": [
    {
     "name": "stdout",
     "output_type": "stream",
     "text": [
      "-1.0\n"
     ]
    }
   ],
   "source": [
    "\n",
    "print (det(A))"
   ]
  },
  {
   "cell_type": "code",
   "execution_count": 50,
   "metadata": {
    "collapsed": false
   },
   "outputs": [
    {
     "name": "stdout",
     "output_type": "stream",
     "text": [
      "[[2 1]\n",
      " [1 0]]\n"
     ]
    }
   ],
   "source": [
    "#solving equation\n",
    "\n",
    "dx = A\n",
    "print(dx)\n"
   ]
  },
  {
   "cell_type": "code",
   "execution_count": 67,
   "metadata": {
    "collapsed": false
   },
   "outputs": [
    {
     "name": "stdout",
     "output_type": "stream",
     "text": [
      "(2,)\n",
      "[8 9]\n",
      "[[9 9]\n",
      " [5 5]]\n"
     ]
    }
   ],
   "source": [
    "xt = np.transpose(np.array([8,9]))\n",
    "#xt.reshape(2,1)\n",
    "print(xt.shape)\n",
    "print(xt)\n",
    "dx[1:] = 5\n",
    "print(dx)"
   ]
  },
  {
   "cell_type": "code",
   "execution_count": null,
   "metadata": {
    "collapsed": true
   },
   "outputs": [],
   "source": []
  }
 ],
 "metadata": {
  "kernelspec": {
   "display_name": "Python 3",
   "language": "python",
   "name": "python3"
  },
  "language_info": {
   "codemirror_mode": {
    "name": "ipython",
    "version": 3
   },
   "file_extension": ".py",
   "mimetype": "text/x-python",
   "name": "python",
   "nbconvert_exporter": "python",
   "pygments_lexer": "ipython3",
   "version": "3.5.2"
  }
 },
 "nbformat": 4,
 "nbformat_minor": 2
}
